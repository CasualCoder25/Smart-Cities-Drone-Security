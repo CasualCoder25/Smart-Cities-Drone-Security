{
 "cells": [
  {
   "cell_type": "code",
   "execution_count": 1,
   "metadata": {},
   "outputs": [],
   "source": [
    "import numpy as np\n",
    "import pandas as pd\n",
    "import tensorflow as tf\n",
    "import matplotlib.pyplot as plt\n",
    "from tensorflow.keras.layers import Input, Dense, LSTM, Activation, Reshape, Concatenate, BatchNormalization, LayerNormalization, Conv2D, MaxPool2D, Flatten\n",
    "from tensorflow.keras.models import Model\n",
    "import os"
   ]
  },
  {
   "cell_type": "code",
   "execution_count": 2,
   "metadata": {},
   "outputs": [],
   "source": [
    "base_path = r\"C:\\Users\\Sagar\\Python files_Jupiter\\Git Repo Local\\Smart Cities\\Project\""
   ]
  },
  {
   "cell_type": "code",
   "execution_count": 3,
   "metadata": {},
   "outputs": [],
   "source": [
    "image_size=(26,41)\n",
    "batch_size=26"
   ]
  },
  {
   "cell_type": "code",
   "execution_count": 4,
   "metadata": {},
   "outputs": [
    {
     "name": "stdout",
     "output_type": "stream",
     "text": [
      "Found 248797 files belonging to 37 classes.\n"
     ]
    }
   ],
   "source": [
    "train_dataset=tf.keras.utils.image_dataset_from_directory(\n",
    "    base_path + r\"\\Dataset\\Final Dataset\\Train\\Images\",\n",
    "    color_mode='grayscale',\n",
    "    image_size=image_size,\n",
    "    batch_size=128,\n",
    "    shuffle=True,\n",
    ")"
   ]
  },
  {
   "cell_type": "code",
   "execution_count": 5,
   "metadata": {},
   "outputs": [
    {
     "name": "stdout",
     "output_type": "stream",
     "text": [
      "Found 62181 files belonging to 37 classes.\n"
     ]
    }
   ],
   "source": [
    "test_dataset=tf.keras.utils.image_dataset_from_directory(\n",
    "    base_path + r\"\\Dataset\\Final Dataset\\Test\\Images\",\n",
    "    color_mode='grayscale',\n",
    "    image_size=image_size,\n",
    "    batch_size=128,\n",
    "    shuffle=True,\n",
    ")"
   ]
  },
  {
   "cell_type": "code",
   "execution_count": 6,
   "metadata": {},
   "outputs": [],
   "source": [
    "def CNN_model():\n",
    "    initializers=tf.keras.initializers.RandomNormal(seed=1)\n",
    "\n",
    "    model = tf.keras.models.Sequential([\n",
    "        tf.keras.layers.Input(shape=(26,41,1)),\n",
    "        tf.keras.layers.Conv2D(16,kernel_size=(1,3),strides=(1,1),padding=\"same\",kernel_initializer=initializers),\n",
    "        tf.keras.layers.LeakyReLU(0.2),\n",
    "        tf.keras.layers.Conv2D(16,kernel_size=(1,3),strides=(1,1),padding=\"same\",kernel_initializer=initializers),\n",
    "        tf.keras.layers.LeakyReLU(0.2),\n",
    "        tf.keras.layers.Conv2D(16,kernel_size=(1,3),strides=(1,1),padding=\"same\",kernel_initializer=initializers),\n",
    "    ])\n",
    "\n",
    "    return model"
   ]
  },
  {
   "cell_type": "code",
   "execution_count": 7,
   "metadata": {},
   "outputs": [],
   "source": [
    "def LSTM_model(input_shape=(26,41,16),n_a=512,n_h=8,n_values=37, context_window=26):\n",
    "\n",
    "    # Kernel Initializer\n",
    "    initializers = tf.keras.initializers.RandomNormal(seed=1)\n",
    "    # Reshapers\n",
    "    reshaper_input = Reshape((1,input_shape[1]*input_shape[2]))\n",
    "    reshaper_temporal = Reshape((1,n_a//4))\n",
    "    reshaper_output = Reshape((input_shape[0]*n_a//4,))\n",
    "    # LSTM and Dense Cells\n",
    "    LSTMcell = LSTM(n_a, return_state=True, kernel_initializer=initializers)\n",
    "    Densor1 = Dense(n_a/2, kernel_initializer=initializers, activation=\"relu\")\n",
    "    Densor2 = Dense(n_a/4,kernel_initializer=initializers,activation=\"relu\")\n",
    "    # Self Attention Mechanism\n",
    "    key = Dense(n_a/4,kernel_initializer=initializers,activation=\"relu\")\n",
    "    query = Dense(n_a/4,kernel_initializer=initializers,activation=\"relu\")\n",
    "    value = Dense(n_a/4,kernel_initializer=initializers,activation=\"relu\")\n",
    "    # Concatenate temporal outputs \n",
    "    concat = Concatenate(axis=1)\n",
    "    # Softmax to obtain prediction\n",
    "    Densor_softmax = Dense(n_values, kernel_initializer=initializers, activation='linear')\n",
    "\n",
    "    # Model Architecture\n",
    "    inputs = Input(shape=input_shape)\n",
    "    outputs = []\n",
    "\n",
    "    # LSTM and Dense Cells\n",
    "    for i in range(context_window):\n",
    "        x = inputs[:, i, :, :]\n",
    "        x = reshaper_input(x)\n",
    "        if i==0:\n",
    "            _, a, c = LSTMcell(x)\n",
    "        else:\n",
    "            _, a, c = LSTMcell(x,initial_state=[a,c])\n",
    "        out = Densor1(a)\n",
    "        out = Densor2(out)\n",
    "        out = reshaper_temporal(out)\n",
    "        outputs.append(out)\n",
    "    \n",
    "    # Concatenate temporal dimension\n",
    "    outputs = concat(outputs)\n",
    "    # Embedding Dimension for each head\n",
    "    n_dk = (n_a//4)//n_h\n",
    "    sqrt_dk = tf.math.sqrt(tf.cast(n_dk,tf.float32))\n",
    "    # Multi Head Self Attention\n",
    "    q = query(outputs)\n",
    "    q = Reshape((input_shape[0],n_h,n_dk))(q)\n",
    "    q = tf.transpose(q,perm=[0,2,1,3])\n",
    "    k = key(outputs)\n",
    "    k = Reshape((input_shape[0],n_h,n_dk))(k)\n",
    "    k = tf.transpose(k,perm=[0,2,3,1])\n",
    "    v = value(outputs)\n",
    "    v = Reshape((input_shape[0],n_h,n_dk))(v)\n",
    "    v = tf.transpose(v,perm=[0,2,1,3])\n",
    "    self_attention_scores = tf.nn.softmax(tf.matmul(q,k)/sqrt_dk,axis=-1)\n",
    "    self_attention = tf.matmul(self_attention_scores,v)\n",
    "    self_attention = tf.transpose(self_attention,perm=[0,2,1,3])\n",
    "    self_attention = Reshape((input_shape[0],n_a//4))(self_attention)\n",
    "    # Output reshape\n",
    "    outputs = reshaper_output(self_attention)\n",
    "    # Feed Forward Network\n",
    "    outputs = Dense(n_a//4,kernel_initializer=initializers,activation='relu',kernel_regularizer=tf.keras.regularizers.L2(0.01))(outputs)\n",
    "    # Softmax output\n",
    "    outputs = Densor_softmax(outputs)\n",
    "\n",
    "    model = Model(inputs=[inputs], outputs=[outputs])\n",
    "\n",
    "    return model"
   ]
  },
  {
   "cell_type": "code",
   "execution_count": 8,
   "metadata": {},
   "outputs": [],
   "source": [
    "def CNN_LSTM_model():\n",
    "    input = Input(shape=(26,41,1))\n",
    "    x = CNN_model()(input)\n",
    "    output = LSTM_model((26,41,16),512,8,37,26)(x)\n",
    "    \n",
    "    model = Model(inputs=[input],outputs=[output])\n",
    "\n",
    "    model.compile(\n",
    "        loss=tf.keras.losses.SparseCategoricalCrossentropy(from_logits=True),\n",
    "        optimizer=tf.keras.optimizers.Adam(learning_rate=0.0001),\n",
    "        metrics=['accuracy']\n",
    "    )\n",
    "\n",
    "    return model"
   ]
  },
  {
   "cell_type": "code",
   "execution_count": 9,
   "metadata": {},
   "outputs": [],
   "source": [
    "model = CNN_LSTM_model()"
   ]
  },
  {
   "cell_type": "code",
   "execution_count": 10,
   "metadata": {},
   "outputs": [
    {
     "name": "stdout",
     "output_type": "stream",
     "text": [
      "Model: \"model_1\"\n",
      "_________________________________________________________________\n",
      " Layer (type)                Output Shape              Param #   \n",
      "=================================================================\n",
      " input_1 (InputLayer)        [(None, 26, 41, 1)]       0         \n",
      "                                                                 \n",
      " sequential (Sequential)     (None, 26, 41, 16)        1632      \n",
      "                                                                 \n",
      " model (Functional)          (None, 37)                3038757   \n",
      "                                                                 \n",
      "=================================================================\n",
      "Total params: 3,040,389\n",
      "Trainable params: 3,040,389\n",
      "Non-trainable params: 0\n",
      "_________________________________________________________________\n"
     ]
    }
   ],
   "source": [
    "model.summary()"
   ]
  },
  {
   "cell_type": "code",
   "execution_count": 11,
   "metadata": {},
   "outputs": [
    {
     "data": {
      "image/png": "[encoded data removed]",
      "text/plain": [
       "<IPython.core.display.Image object>"
      ]
     },
     "execution_count": 11,
     "metadata": {},
     "output_type": "execute_result"
    }
   ],
   "source": [
    "tf.keras.utils.plot_model(model,to_file= base_path + \"/Results/CNN_DNN_LSTM_ATTENTION/Softmax_LSTM_CNN_ATTENTION_model.png\",show_shapes=True)"
   ]
  },
  {
   "cell_type": "code",
   "execution_count": 12,
   "metadata": {},
   "outputs": [],
   "source": [
    "class myCallback(tf.keras.callbacks.Callback):\n",
    "    def __init__(self):\n",
    "        self.prev_loss=0\n",
    "    def on_epoch_end(self,epoch,logs={}):\n",
    "        model.save(base_path + f\"/Results/CNN_DNN_LSTM_ATTENTION/model_{epoch}.h5\")\n",
    "        if(epoch>0 and logs.get('loss')>=self.prev_loss):\n",
    "            print('\\nLearning rate updated')\n",
    "            self.model.optimizer.lr.assign(self.model.optimizer.lr.read_value()*0.1)\n",
    "        self.prev_loss=logs.get('loss')\n",
    "\n",
    "callbacks=myCallback()"
   ]
  },
  {
   "cell_type": "code",
   "execution_count": 13,
   "metadata": {},
   "outputs": [
    {
     "name": "stdout",
     "output_type": "stream",
     "text": [
      "Epoch 1/5\n",
      "1944/1944 [==============================] - 355s 148ms/step - loss: 2.9323 - accuracy: 0.8405 - val_loss: 0.5580 - val_accuracy: 0.9453\n",
      "Epoch 2/5\n",
      "1944/1944 [==============================] - 278s 143ms/step - loss: 0.3034 - accuracy: 0.9574 - val_loss: 0.1769 - val_accuracy: 0.9629\n",
      "Epoch 3/5\n",
      "1944/1944 [==============================] - 278s 143ms/step - loss: 0.1314 - accuracy: 0.9650 - val_loss: 0.1086 - val_accuracy: 0.9670\n",
      "Epoch 4/5\n",
      "1944/1944 [==============================] - 284s 146ms/step - loss: 0.0941 - accuracy: 0.9678 - val_loss: 0.0884 - val_accuracy: 0.9671\n",
      "Epoch 5/5\n",
      "1944/1944 [==============================] - 272s 140ms/step - loss: 0.0810 - accuracy: 0.9688 - val_loss: 0.0819 - val_accuracy: 0.9680\n"
     ]
    }
   ],
   "source": [
    "history=model.fit(train_dataset,validation_data=test_dataset,batch_size=128,epochs=5,callbacks=[callbacks])"
   ]
  },
  {
   "cell_type": "code",
   "execution_count": 19,
   "metadata": {},
   "outputs": [],
   "source": [
    "# Emergency Save\n",
    "model.save(base_path + f\"/Results/CNN_DNN_LSTM_ATTENTION/model_{5}.h5\")"
   ]
  },
  {
   "cell_type": "code",
   "execution_count": 15,
   "metadata": {},
   "outputs": [],
   "source": [
    "import json\n",
    "\n",
    "with open(base_path + f\"/Results/CNN_DNN_LSTM_ATTENTION.txt\",\"w\") as file:\n",
    "    file.write(json.dumps(history.params))\n",
    "with open(base_path + f\"/Results/CNN_DNN_LSTM_ATTENTION_history.txt\",\"w\") as file:\n",
    "    file.write(json.dumps(history.history))"
   ]
  },
  {
   "cell_type": "code",
   "execution_count": 20,
   "metadata": {},
   "outputs": [],
   "source": [
    "model=tf.keras.models.load_model(base_path + f\"/Results/CNN_DNN_LSTM_ATTENTION/model_{5}.h5\")"
   ]
  },
  {
   "cell_type": "code",
   "execution_count": 21,
   "metadata": {},
   "outputs": [
    {
     "data": {
      "image/png": "[encoded data removed]",
      "text/plain": [
       "<Figure size 640x480 with 1 Axes>"
      ]
     },
     "metadata": {},
     "output_type": "display_data"
    }
   ],
   "source": [
    "plt.plot(range(5),history.history[\"loss\"],color=\"blue\",label=\"Train Loss\")\n",
    "plt.plot(range(5),history.history[\"val_loss\"],color=\"orange\",label=\"Validation Loss\")\n",
    "plt.show()"
   ]
  },
  {
   "cell_type": "code",
   "execution_count": 22,
   "metadata": {},
   "outputs": [
    {
     "data": {
      "image/png": "[encoded data removed]",
      "text/plain": [
       "<Figure size 640x480 with 1 Axes>"
      ]
     },
     "metadata": {},
     "output_type": "display_data"
    }
   ],
   "source": [
    "plt.plot(range(5),history.history[\"accuracy\"],color=\"blue\",label=\"Train Accuracy\")\n",
    "plt.plot(range(5),history.history[\"val_accuracy\"],color=\"orange\",label=\"Validation Accuracy\")\n",
    "plt.show()"
   ]
  },
  {
   "cell_type": "code",
   "execution_count": 23,
   "metadata": {},
   "outputs": [
    {
     "name": "stdout",
     "output_type": "stream",
     "text": [
      "Found 248797 files belonging to 37 classes.\n",
      "Train Accuracy: 97.11%\n",
      "Train Precision: 97.93%\n",
      "Train Recall: 97.11%\n",
      "Train F1-Score: 97.25%\n"
     ]
    },
    {
     "name": "stderr",
     "output_type": "stream",
     "text": [
      "c:\\Users\\Sagar\\anaconda3\\envs\\py39\\lib\\site-packages\\sklearn\\metrics\\_classification.py:1469: UndefinedMetricWarning: Precision is ill-defined and being set to 0.0 in labels with no predicted samples. Use `zero_division` parameter to control this behavior.\n",
      "  _warn_prf(average, modifier, msg_start, len(result))\n"
     ]
    }
   ],
   "source": [
    "import numpy as np\n",
    "import tensorflow as tf\n",
    "from sklearn.metrics import accuracy_score, precision_score, recall_score, f1_score\n",
    "\n",
    "# Assuming you have a trained model `model`\n",
    "# context_window: The target image size (e.g., (26, 41)) for resizing images\n",
    "\n",
    "# Load the train dataset\n",
    "train_dataset = tf.keras.utils.image_dataset_from_directory(\n",
    "    base_path + r\"\\Dataset\\Final Dataset\\Train\\Images\",\n",
    "    color_mode='grayscale',\n",
    "    image_size=image_size,\n",
    "    batch_size=128,\n",
    "    shuffle=True,\n",
    ")\n",
    "\n",
    "# Prepare for evaluation metrics\n",
    "predictions = []\n",
    "true_labels = []\n",
    "\n",
    "# Loop over the train dataset in batches\n",
    "for images, labels in train_dataset:\n",
    "    # Predict for the current batch\n",
    "    batch_predictions = model.predict(images, verbose=0)  # Using the trained model\n",
    "    \n",
    "    # Append the batch predictions and true labels\n",
    "    predictions.append(batch_predictions)\n",
    "    true_labels.append(labels)\n",
    "\n",
    "# Concatenate all batch predictions and true labels\n",
    "predictions = np.concatenate(predictions, axis=0)\n",
    "true_labels = np.concatenate(true_labels, axis=0)\n",
    "\n",
    "# If you have multi-class classification and the output is one-hot encoded:\n",
    "# You may need to convert to single class predictions\n",
    "predictions = np.argmax(predictions, axis=-1)  # Convert to class index (max prob)\n",
    "\n",
    "# Evaluate the accuracy, precision, recall, and F1-score\n",
    "accuracy = accuracy_score(true_labels, predictions)\n",
    "precision = precision_score(true_labels, predictions, average='weighted')  # or 'micro' depending on your use case\n",
    "recall = recall_score(true_labels, predictions, average='weighted')  # or 'micro'\n",
    "f1_score_value = f1_score(true_labels, predictions, average='weighted')  # or 'micro'\n",
    "\n",
    "# Print the metrics\n",
    "print(f\"Train Accuracy: {accuracy * 100:.2f}%\")\n",
    "print(f\"Train Precision: {precision * 100:.2f}%\")\n",
    "print(f\"Train Recall: {recall * 100:.2f}%\")\n",
    "print(f\"Train F1-Score: {f1_score_value * 100:.2f}%\")"
   ]
  },
  {
   "cell_type": "code",
   "execution_count": 24,
   "metadata": {},
   "outputs": [
    {
     "name": "stdout",
     "output_type": "stream",
     "text": [
      "Found 62181 files belonging to 37 classes.\n",
      "Accuracy: 96.80%\n",
      "Precision: 97.80%\n",
      "Recall: 96.80%\n",
      "F1-Score: 96.94%\n"
     ]
    },
    {
     "name": "stderr",
     "output_type": "stream",
     "text": [
      "c:\\Users\\Sagar\\anaconda3\\envs\\py39\\lib\\site-packages\\sklearn\\metrics\\_classification.py:1469: UndefinedMetricWarning: Precision is ill-defined and being set to 0.0 in labels with no predicted samples. Use `zero_division` parameter to control this behavior.\n",
      "  _warn_prf(average, modifier, msg_start, len(result))\n"
     ]
    }
   ],
   "source": [
    "import numpy as np\n",
    "import tensorflow as tf\n",
    "from sklearn.metrics import accuracy_score, precision_score, recall_score, f1_score\n",
    "\n",
    "# Assuming you have a trained model `model`\n",
    "# context_window: The target image size (e.g., (26, 41)) for resizing images\n",
    "\n",
    "# Load the test dataset\n",
    "test_dataset = tf.keras.utils.image_dataset_from_directory(\n",
    "    base_path + r\"\\Dataset\\Final Dataset\\Test\\Images\",\n",
    "    color_mode='grayscale',\n",
    "    image_size=image_size,\n",
    "    batch_size=128,\n",
    "    shuffle=True,\n",
    ")\n",
    "\n",
    "# Prepare for evaluation metrics\n",
    "predictions = []\n",
    "true_labels = []\n",
    "\n",
    "# Loop over the test dataset in batches\n",
    "for images, labels in test_dataset:\n",
    "    # Predict for the current batch\n",
    "    batch_predictions = model.predict(images, verbose=0)  # Using the trained model\n",
    "    \n",
    "    # Append the batch predictions and true labels\n",
    "    predictions.append(batch_predictions)\n",
    "    true_labels.append(labels)\n",
    "\n",
    "# Concatenate all batch predictions and true labels\n",
    "predictions = np.concatenate(predictions, axis=0)\n",
    "true_labels = np.concatenate(true_labels, axis=0)\n",
    "\n",
    "# If you have multi-class classification and the output is one-hot encoded:\n",
    "# You may need to convert to single class predictions\n",
    "predictions = np.argmax(predictions, axis=-1)  # Convert to class index (max prob)\n",
    "\n",
    "# Evaluate the accuracy, precision, recall, and F1-score\n",
    "accuracy = accuracy_score(true_labels, predictions)\n",
    "precision = precision_score(true_labels, predictions, average='weighted')  # or 'micro' depending on your use case\n",
    "recall = recall_score(true_labels, predictions, average='weighted')  # or 'micro'\n",
    "f1_score_value = f1_score(true_labels, predictions, average='weighted')  # or 'micro'\n",
    "\n",
    "# Print the metrics\n",
    "print(f\"Accuracy: {accuracy * 100:.2f}%\")\n",
    "print(f\"Precision: {precision * 100:.2f}%\")\n",
    "print(f\"Recall: {recall * 100:.2f}%\")\n",
    "print(f\"F1-Score: {f1_score_value * 100:.2f}%\")"
   ]
  },
  {
   "cell_type": "code",
   "execution_count": null,
   "metadata": {},
   "outputs": [],
   "source": []
  }
 ],
 "metadata": {
  "kernelspec": {
   "display_name": "py39",
   "language": "python",
   "name": "python3"
  },
  "language_info": {
   "codemirror_mode": {
    "name": "ipython",
    "version": 3
   },
   "file_extension": ".py",
   "mimetype": "text/x-python",
   "name": "python",
   "nbconvert_exporter": "python",
   "pygments_lexer": "ipython3",
   "version": "3.9.17"
  }
 },
 "nbformat": 4,
 "nbformat_minor": 2
}
