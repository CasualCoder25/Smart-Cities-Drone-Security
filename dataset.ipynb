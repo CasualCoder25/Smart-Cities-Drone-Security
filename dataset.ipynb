{
 "cells": [
  {
   "cell_type": "code",
   "execution_count": 1,
   "metadata": {},
   "outputs": [],
   "source": [
    "import pandas as pd\n",
    "import os"
   ]
  },
  {
   "cell_type": "code",
   "execution_count": 2,
   "metadata": {},
   "outputs": [],
   "source": [
    "base_path = r\"C:\\Users\\Sagar\\Python files_Jupiter\\Git Repo Local\\Smart Cities\\Project\""
   ]
  },
  {
   "cell_type": "code",
   "execution_count": 3,
   "metadata": {},
   "outputs": [],
   "source": [
    "# Define the input folder and output CSV file paths\n",
    "# Change to your input folder path\n",
    "input_file = base_path + r\"\\Dataset\\Raw\\dataset.txt\"\n",
    "output_csv_path_train = base_path + r\"\\Dataset\\Final Dataset\\Train\\train.csv\"\n",
    "output_csv_path_test = base_path + r\"\\Dataset\\Final Dataset\\Test\\test.csv\""
   ]
  },
  {
   "cell_type": "code",
   "execution_count": 4,
   "metadata": {},
   "outputs": [],
   "source": [
    "# Load data from the text file\n",
    "with open(input_file, 'r') as file:\n",
    "    # Read and process each line\n",
    "    lines = [line.strip().rstrip('.').split(',') for line in file]"
   ]
  },
  {
   "cell_type": "code",
   "execution_count": 5,
   "metadata": {},
   "outputs": [],
   "source": [
    "# Convert the processed lines into a DataFrame\n",
    "df = pd.DataFrame(lines)"
   ]
  },
  {
   "cell_type": "code",
   "execution_count": 6,
   "metadata": {},
   "outputs": [
    {
     "name": "stdout",
     "output_type": "stream",
     "text": [
      "Train and test splits have been saved as 'train.csv' and 'test.csv'\n"
     ]
    }
   ],
   "source": [
    "import csv\n",
    "import pandas as pd\n",
    "from sklearn.model_selection import train_test_split\n",
    "\n",
    "# Separate features and label (assuming last column is the label)\n",
    "X = df.iloc[:, :-1]  # All columns except the last one are features\n",
    "y = df.iloc[:, -1]   # The last column is the label\n",
    "\n",
    "# Remove classes with fewer than two samples\n",
    "class_counts = y.value_counts()\n",
    "valid_classes = class_counts[class_counts > 1].index\n",
    "df = df[df.iloc[:, -1].isin(valid_classes)]\n",
    "\n",
    "# Re-separate features and labels after filtering\n",
    "X = df.iloc[:, :-1]\n",
    "y = df.iloc[:, -1]\n",
    "\n",
    "# Perform train-test split with stratification\n",
    "X_train, X_test, y_train, y_test = train_test_split(\n",
    "    X, y, test_size=0.2, stratify=y, random_state=42\n",
    ")\n",
    "\n",
    "# Combine X and y for train and test sets, respectively\n",
    "train_data = pd.concat([X_train, y_train], axis=1)\n",
    "test_data = pd.concat([X_test, y_test], axis=1)\n",
    "\n",
    "# Save to CSV files\n",
    "train_data.to_csv(output_csv_path_train, index=False, header=False)\n",
    "test_data.to_csv(output_csv_path_test, index=False, header=False)\n",
    "\n",
    "print(\"Train and test splits have been saved as 'train.csv' and 'test.csv'\")"
   ]
  },
  {
   "cell_type": "code",
   "execution_count": null,
   "metadata": {},
   "outputs": [],
   "source": []
  }
 ],
 "metadata": {
  "kernelspec": {
   "display_name": "py39",
   "language": "python",
   "name": "python3"
  },
  "language_info": {
   "codemirror_mode": {
    "name": "ipython",
    "version": 3
   },
   "file_extension": ".py",
   "mimetype": "text/x-python",
   "name": "python",
   "nbconvert_exporter": "python",
   "pygments_lexer": "ipython3",
   "version": "3.9.17"
  }
 },
 "nbformat": 4,
 "nbformat_minor": 2
}
