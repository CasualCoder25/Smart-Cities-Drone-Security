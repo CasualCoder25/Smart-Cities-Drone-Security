{
 "cells": [
  {
   "cell_type": "code",
   "execution_count": 1,
   "metadata": {},
   "outputs": [],
   "source": [
    "import numpy as np\n",
    "import pandas as pd\n",
    "import tensorflow as tf\n",
    "import matplotlib.pyplot as plt\n",
    "from tensorflow.keras.layers import Input, Dense, LSTM, Activation, Reshape, Concatenate, BatchNormalization, LayerNormalization, Conv2D, MaxPool2D, Flatten\n",
    "from tensorflow.keras.models import Model\n",
    "import os"
   ]
  },
  {
   "cell_type": "code",
   "execution_count": 2,
   "metadata": {},
   "outputs": [],
   "source": [
    "base_path = r\"C:\\Users\\Sagar\\Python files_Jupiter\\Git Repo Local\\Smart Cities\\Project\""
   ]
  },
  {
   "cell_type": "code",
   "execution_count": 3,
   "metadata": {},
   "outputs": [],
   "source": [
    "image_size=(26,41)\n",
    "batch_size=26"
   ]
  },
  {
   "cell_type": "code",
   "execution_count": 4,
   "metadata": {},
   "outputs": [
    {
     "name": "stdout",
     "output_type": "stream",
     "text": [
      "Found 248797 files belonging to 37 classes.\n"
     ]
    }
   ],
   "source": [
    "train_dataset=tf.keras.utils.image_dataset_from_directory(\n",
    "    base_path + r\"\\Dataset\\Final Dataset\\Train\\Images\",\n",
    "    color_mode='grayscale',\n",
    "    image_size=image_size,\n",
    "    batch_size=128,\n",
    "    shuffle=True,\n",
    ")"
   ]
  },
  {
   "cell_type": "code",
   "execution_count": 5,
   "metadata": {},
   "outputs": [
    {
     "name": "stdout",
     "output_type": "stream",
     "text": [
      "Found 62181 files belonging to 37 classes.\n"
     ]
    }
   ],
   "source": [
    "test_dataset=tf.keras.utils.image_dataset_from_directory(\n",
    "    base_path + r\"\\Dataset\\Final Dataset\\Test\\Images\",\n",
    "    color_mode='grayscale',\n",
    "    image_size=image_size,\n",
    "    batch_size=128,\n",
    "    shuffle=True,\n",
    ")"
   ]
  },
  {
   "cell_type": "code",
   "execution_count": 6,
   "metadata": {},
   "outputs": [],
   "source": [
    "def CNN_model():\n",
    "    initializers=tf.keras.initializers.RandomNormal(seed=1)\n",
    "\n",
    "    model = tf.keras.models.Sequential([\n",
    "        tf.keras.layers.Input(shape=(26,41,1)),\n",
    "        tf.keras.layers.Conv2D(16,kernel_size=(1,3),strides=(1,1),padding=\"same\",kernel_initializer=initializers),\n",
    "        tf.keras.layers.LeakyReLU(0.2),\n",
    "        tf.keras.layers.Conv2D(16,kernel_size=(1,3),strides=(1,1),padding=\"same\",kernel_initializer=initializers),\n",
    "        tf.keras.layers.LeakyReLU(0.2),\n",
    "        tf.keras.layers.Conv2D(16,kernel_size=(1,3),strides=(1,1),padding=\"same\",kernel_initializer=initializers),\n",
    "    ])\n",
    "\n",
    "    return model"
   ]
  },
  {
   "cell_type": "code",
   "execution_count": 7,
   "metadata": {},
   "outputs": [],
   "source": [
    "def LSTM_model(input_shape=(26,41,16),n_a=512,n_h=8,n_values=37, context_window=26):\n",
    "\n",
    "    # Kernel Initializer\n",
    "    initializers = tf.keras.initializers.RandomNormal(seed=1)\n",
    "    # Reshapers\n",
    "    reshaper_input = Reshape((1,input_shape[1]*input_shape[2]))\n",
    "    reshaper_temporal = Reshape((1,n_a//4))\n",
    "    reshaper_output = Reshape((input_shape[0]*n_a//4,))\n",
    "    # Dense Cells\n",
    "    Densor1 = Dense(n_a/2, kernel_initializer=initializers, activation=\"relu\")\n",
    "    Densor2 = Dense(n_a/4,kernel_initializer=initializers,activation=\"relu\")\n",
    "    # Self Attention Mechanism\n",
    "    key = Dense(n_a/4,kernel_initializer=initializers,activation=\"relu\")\n",
    "    query = Dense(n_a/4,kernel_initializer=initializers,activation=\"relu\")\n",
    "    value = Dense(n_a/4,kernel_initializer=initializers,activation=\"relu\")\n",
    "    # Concatenate temporal outputs \n",
    "    reshape = Reshape((input_shape[0], input_shape[1] * (n_a // 4)))\n",
    "    # Softmax to obtain prediction\n",
    "    Densor_softmax = Dense(n_values, kernel_initializer=initializers, activation='linear')\n",
    "\n",
    "    # Model Architecture\n",
    "    inputs = Input(shape=input_shape)\n",
    "    \n",
    "    outputs = Densor1(inputs)\n",
    "    outputs = Densor2(outputs)\n",
    "    \n",
    "    # Concatenate temporal dimension\n",
    "    print(outputs.shape)\n",
    "    outputs = reshape(outputs)\n",
    "    # Embedding Dimension for each head\n",
    "    n_dk = (n_a//4)//n_h\n",
    "    sqrt_dk = tf.math.sqrt(tf.cast(n_dk,tf.float32))\n",
    "    # Multi Head Self Attention\n",
    "    q = query(outputs)\n",
    "    q = Reshape((input_shape[0],n_h,n_dk))(q)\n",
    "    q = tf.transpose(q,perm=[0,2,1,3])\n",
    "    k = key(outputs)\n",
    "    k = Reshape((input_shape[0],n_h,n_dk))(k)\n",
    "    k = tf.transpose(k,perm=[0,2,3,1])\n",
    "    v = value(outputs)\n",
    "    v = Reshape((input_shape[0],n_h,n_dk))(v)\n",
    "    v = tf.transpose(v,perm=[0,2,1,3])\n",
    "    self_attention_scores = tf.nn.softmax(tf.matmul(q,k)/sqrt_dk,axis=-1)\n",
    "    self_attention = tf.matmul(self_attention_scores,v)\n",
    "    self_attention = tf.transpose(self_attention,perm=[0,2,1,3])\n",
    "    self_attention = Reshape((input_shape[0],n_a//4))(self_attention)\n",
    "    # Output reshape\n",
    "    outputs = reshaper_output(self_attention)\n",
    "    # Feed Forward Network\n",
    "    outputs = Dense(n_a//4,kernel_initializer=initializers,activation='relu',kernel_regularizer=tf.keras.regularizers.L2(0.01))(outputs)\n",
    "    # Softmax output\n",
    "    outputs = Densor_softmax(outputs)\n",
    "\n",
    "    model = Model(inputs=[inputs], outputs=[outputs])\n",
    "\n",
    "    return model"
   ]
  },
  {
   "cell_type": "code",
   "execution_count": 8,
   "metadata": {},
   "outputs": [],
   "source": [
    "def CNN_LSTM_model():\n",
    "    input = Input(shape=(26,41,1))\n",
    "    x = CNN_model()(input)\n",
    "    output = LSTM_model((26,41,16),512,8,37,26)(x)\n",
    "    \n",
    "    model = Model(inputs=[input],outputs=[output])\n",
    "\n",
    "    model.compile(\n",
    "        loss=tf.keras.losses.SparseCategoricalCrossentropy(from_logits=True),\n",
    "        optimizer=tf.keras.optimizers.Adam(learning_rate=0.0001),\n",
    "        metrics=['accuracy']\n",
    "    )\n",
    "\n",
    "    return model"
   ]
  },
  {
   "cell_type": "code",
   "execution_count": 9,
   "metadata": {},
   "outputs": [
    {
     "name": "stdout",
     "output_type": "stream",
     "text": [
      "(None, 26, 41, 128)\n"
     ]
    }
   ],
   "source": [
    "model = CNN_LSTM_model()"
   ]
  },
  {
   "cell_type": "code",
   "execution_count": 10,
   "metadata": {},
   "outputs": [
    {
     "name": "stdout",
     "output_type": "stream",
     "text": [
      "Model: \"model_1\"\n",
      "_________________________________________________________________\n",
      " Layer (type)                Output Shape              Param #   \n",
      "=================================================================\n",
      " input_1 (InputLayer)        [(None, 26, 41, 1)]       0         \n",
      "                                                                 \n",
      " sequential (Sequential)     (None, 26, 41, 16)        1632      \n",
      "                                                                 \n",
      " model (Functional)          (None, 37)                2483749   \n",
      "                                                                 \n",
      "=================================================================\n",
      "Total params: 2,485,381\n",
      "Trainable params: 2,485,381\n",
      "Non-trainable params: 0\n",
      "_________________________________________________________________\n"
     ]
    }
   ],
   "source": [
    "model.summary()"
   ]
  },
  {
   "cell_type": "code",
   "execution_count": 12,
   "metadata": {},
   "outputs": [
    {
     "data": {
      "image/png": "[encoded data removed]",
      "text/plain": [
       "<IPython.core.display.Image object>"
      ]
     },
     "execution_count": 12,
     "metadata": {},
     "output_type": "execute_result"
    }
   ],
   "source": [
    "tf.keras.utils.plot_model(model,to_file= base_path + \"/Results/CNN_DNN_ATTENTION/Softmax_CNN_ATTENTION_model.png\",show_shapes=True)"
   ]
  },
  {
   "cell_type": "code",
   "execution_count": 13,
   "metadata": {},
   "outputs": [],
   "source": [
    "class myCallback(tf.keras.callbacks.Callback):\n",
    "    def __init__(self):\n",
    "        self.prev_loss=0\n",
    "    def on_epoch_end(self,epoch,logs={}):\n",
    "        model.save(base_path + f\"/Results/CNN_DNN_ATTENTION/model_{epoch}.h5\")\n",
    "        if(epoch>0 and logs.get('loss')>=self.prev_loss):\n",
    "            print('\\nLearning rate updated')\n",
    "            self.model.optimizer.lr.assign(self.model.optimizer.lr.read_value()*0.1)\n",
    "        self.prev_loss=logs.get('loss')\n",
    "\n",
    "callbacks=myCallback()"
   ]
  },
  {
   "cell_type": "code",
   "execution_count": 15,
   "metadata": {},
   "outputs": [
    {
     "name": "stdout",
     "output_type": "stream",
     "text": [
      "Epoch 1/5\n"
     ]
    },
    {
     "name": "stdout",
     "output_type": "stream",
     "text": [
      "1944/1944 [==============================] - 207s 106ms/step - loss: 2.9340 - accuracy: 0.9046 - val_loss: 0.6507 - val_accuracy: 0.9588\n",
      "Epoch 2/5\n",
      "1944/1944 [==============================] - 206s 106ms/step - loss: 0.3568 - accuracy: 0.9634 - val_loss: 0.1993 - val_accuracy: 0.9642\n",
      "Epoch 3/5\n",
      "1944/1944 [==============================] - 207s 106ms/step - loss: 0.1471 - accuracy: 0.9662 - val_loss: 0.1170 - val_accuracy: 0.9647\n",
      "Epoch 4/5\n",
      "1944/1944 [==============================] - 205s 105ms/step - loss: 0.1003 - accuracy: 0.9677 - val_loss: 0.0944 - val_accuracy: 0.9664\n",
      "Epoch 5/5\n",
      "1944/1944 [==============================] - 204s 105ms/step - loss: 0.0868 - accuracy: 0.9688 - val_loss: 0.0898 - val_accuracy: 0.9651\n"
     ]
    }
   ],
   "source": [
    "history=model.fit(train_dataset,validation_data=test_dataset,batch_size=128,epochs=5,callbacks=[callbacks])"
   ]
  },
  {
   "cell_type": "code",
   "execution_count": 16,
   "metadata": {},
   "outputs": [],
   "source": [
    "# Emergency Save\n",
    "model.save(base_path + f\"/Results/CNN_DNN_ATTENTION/model_{5}.h5\")"
   ]
  },
  {
   "cell_type": "code",
   "execution_count": 17,
   "metadata": {},
   "outputs": [],
   "source": [
    "import json\n",
    "\n",
    "with open(base_path + f\"/Results/CNN_DNN_ATTENTION.txt\",\"w\") as file:\n",
    "    file.write(json.dumps(history.params))\n",
    "with open(base_path + f\"/Results/CNN_DNN_ATTENTION_history.txt\",\"w\") as file:\n",
    "    file.write(json.dumps(history.history))"
   ]
  },
  {
   "cell_type": "code",
   "execution_count": 18,
   "metadata": {},
   "outputs": [],
   "source": [
    "model=tf.keras.models.load_model(base_path + f\"/Results/CNN_DNN_ATTENTION/model_{5}.h5\")"
   ]
  },
  {
   "cell_type": "code",
   "execution_count": 19,
   "metadata": {},
   "outputs": [
    {
     "data": {
      "image/png": "[encoded data removed]",
      "text/plain": [
       "<Figure size 640x480 with 1 Axes>"
      ]
     },
     "metadata": {},
     "output_type": "display_data"
    }
   ],
   "source": [
    "plt.plot(range(5),history.history[\"loss\"],color=\"blue\",label=\"Train Loss\")\n",
    "plt.plot(range(5),history.history[\"val_loss\"],color=\"orange\",label=\"Validation Loss\")\n",
    "plt.show()"
   ]
  },
  {
   "cell_type": "code",
   "execution_count": 20,
   "metadata": {},
   "outputs": [
    {
     "data": {
      "image/png": "[encoded data removed]",
      "text/plain": [
       "<Figure size 640x480 with 1 Axes>"
      ]
     },
     "metadata": {},
     "output_type": "display_data"
    }
   ],
   "source": [
    "plt.plot(range(5),history.history[\"accuracy\"],color=\"blue\",label=\"Train Accuracy\")\n",
    "plt.plot(range(5),history.history[\"val_accuracy\"],color=\"orange\",label=\"Validation Accuracy\")\n",
    "plt.show()"
   ]
  },
  {
   "cell_type": "code",
   "execution_count": 21,
   "metadata": {},
   "outputs": [
    {
     "name": "stdout",
     "output_type": "stream",
     "text": [
      "Found 248797 files belonging to 37 classes.\n"
     ]
    },
    {
     "name": "stderr",
     "output_type": "stream",
     "text": [
      "c:\\Users\\Sagar\\anaconda3\\envs\\py39\\lib\\site-packages\\sklearn\\metrics\\_classification.py:1469: UndefinedMetricWarning: Precision is ill-defined and being set to 0.0 in labels with no predicted samples. Use `zero_division` parameter to control this behavior.\n",
      "  _warn_prf(average, modifier, msg_start, len(result))\n"
     ]
    },
    {
     "name": "stdout",
     "output_type": "stream",
     "text": [
      "Train Accuracy: 97.20%\n",
      "Train Precision: 97.10%\n",
      "Train Recall: 97.20%\n",
      "Train F1-Score: 97.12%\n"
     ]
    }
   ],
   "source": [
    "import numpy as np\n",
    "import tensorflow as tf\n",
    "from sklearn.metrics import accuracy_score, precision_score, recall_score, f1_score\n",
    "\n",
    "# Assuming you have a trained model `model`\n",
    "# context_window: The target image size (e.g., (26, 41)) for resizing images\n",
    "\n",
    "# Load the train dataset\n",
    "train_dataset = tf.keras.utils.image_dataset_from_directory(\n",
    "    base_path + r\"\\Dataset\\Final Dataset\\Train\\Images\",\n",
    "    color_mode='grayscale',\n",
    "    image_size=image_size,\n",
    "    batch_size=128,\n",
    "    shuffle=True,\n",
    ")\n",
    "\n",
    "# Prepare for evaluation metrics\n",
    "predictions = []\n",
    "true_labels = []\n",
    "\n",
    "# Loop over the train dataset in batches\n",
    "for images, labels in train_dataset:\n",
    "    # Predict for the current batch\n",
    "    batch_predictions = model.predict(images, verbose=0)  # Using the trained model\n",
    "    \n",
    "    # Append the batch predictions and true labels\n",
    "    predictions.append(batch_predictions)\n",
    "    true_labels.append(labels)\n",
    "\n",
    "# Concatenate all batch predictions and true labels\n",
    "predictions = np.concatenate(predictions, axis=0)\n",
    "true_labels = np.concatenate(true_labels, axis=0)\n",
    "\n",
    "# If you have multi-class classification and the output is one-hot encoded:\n",
    "# You may need to convert to single class predictions\n",
    "predictions = np.argmax(predictions, axis=-1)  # Convert to class index (max prob)\n",
    "\n",
    "# Evaluate the accuracy, precision, recall, and F1-score\n",
    "accuracy = accuracy_score(true_labels, predictions)\n",
    "precision = precision_score(true_labels, predictions, average='weighted')  # or 'micro' depending on your use case\n",
    "recall = recall_score(true_labels, predictions, average='weighted')  # or 'micro'\n",
    "f1_score_value = f1_score(true_labels, predictions, average='weighted')  # or 'micro'\n",
    "\n",
    "# Print the metrics\n",
    "print(f\"Train Accuracy: {accuracy * 100:.2f}%\")\n",
    "print(f\"Train Precision: {precision * 100:.2f}%\")\n",
    "print(f\"Train Recall: {recall * 100:.2f}%\")\n",
    "print(f\"Train F1-Score: {f1_score_value * 100:.2f}%\")"
   ]
  },
  {
   "cell_type": "code",
   "execution_count": 22,
   "metadata": {},
   "outputs": [
    {
     "name": "stdout",
     "output_type": "stream",
     "text": [
      "Found 62181 files belonging to 37 classes.\n",
      "Accuracy: 96.51%\n",
      "Precision: 96.51%\n",
      "Recall: 96.51%\n",
      "F1-Score: 96.46%\n"
     ]
    },
    {
     "name": "stderr",
     "output_type": "stream",
     "text": [
      "c:\\Users\\Sagar\\anaconda3\\envs\\py39\\lib\\site-packages\\sklearn\\metrics\\_classification.py:1469: UndefinedMetricWarning: Precision is ill-defined and being set to 0.0 in labels with no predicted samples. Use `zero_division` parameter to control this behavior.\n",
      "  _warn_prf(average, modifier, msg_start, len(result))\n"
     ]
    }
   ],
   "source": [
    "import numpy as np\n",
    "import tensorflow as tf\n",
    "from sklearn.metrics import accuracy_score, precision_score, recall_score, f1_score\n",
    "\n",
    "# Assuming you have a trained model `model`\n",
    "# context_window: The target image size (e.g., (26, 41)) for resizing images\n",
    "\n",
    "# Load the test dataset\n",
    "test_dataset = tf.keras.utils.image_dataset_from_directory(\n",
    "    base_path + r\"\\Dataset\\Final Dataset\\Test\\Images\",\n",
    "    color_mode='grayscale',\n",
    "    image_size=image_size,\n",
    "    batch_size=128,\n",
    "    shuffle=True,\n",
    ")\n",
    "\n",
    "# Prepare for evaluation metrics\n",
    "predictions = []\n",
    "true_labels = []\n",
    "\n",
    "# Loop over the test dataset in batches\n",
    "for images, labels in test_dataset:\n",
    "    # Predict for the current batch\n",
    "    batch_predictions = model.predict(images, verbose=0)  # Using the trained model\n",
    "    \n",
    "    # Append the batch predictions and true labels\n",
    "    predictions.append(batch_predictions)\n",
    "    true_labels.append(labels)\n",
    "\n",
    "# Concatenate all batch predictions and true labels\n",
    "predictions = np.concatenate(predictions, axis=0)\n",
    "true_labels = np.concatenate(true_labels, axis=0)\n",
    "\n",
    "# If you have multi-class classification and the output is one-hot encoded:\n",
    "# You may need to convert to single class predictions\n",
    "predictions = np.argmax(predictions, axis=-1)  # Convert to class index (max prob)\n",
    "\n",
    "# Evaluate the accuracy, precision, recall, and F1-score\n",
    "accuracy = accuracy_score(true_labels, predictions)\n",
    "precision = precision_score(true_labels, predictions, average='weighted')  # or 'micro' depending on your use case\n",
    "recall = recall_score(true_labels, predictions, average='weighted')  # or 'micro'\n",
    "f1_score_value = f1_score(true_labels, predictions, average='weighted')  # or 'micro'\n",
    "\n",
    "# Print the metrics\n",
    "print(f\"Accuracy: {accuracy * 100:.2f}%\")\n",
    "print(f\"Precision: {precision * 100:.2f}%\")\n",
    "print(f\"Recall: {recall * 100:.2f}%\")\n",
    "print(f\"F1-Score: {f1_score_value * 100:.2f}%\")"
   ]
  },
  {
   "cell_type": "code",
   "execution_count": null,
   "metadata": {},
   "outputs": [],
   "source": []
  }
 ],
 "metadata": {
  "kernelspec": {
   "display_name": "py39",
   "language": "python",
   "name": "python3"
  },
  "language_info": {
   "codemirror_mode": {
    "name": "ipython",
    "version": 3
   },
   "file_extension": ".py",
   "mimetype": "text/x-python",
   "name": "python",
   "nbconvert_exporter": "python",
   "pygments_lexer": "ipython3",
   "version": "3.9.17"
  }
 },
 "nbformat": 4,
 "nbformat_minor": 2
}
