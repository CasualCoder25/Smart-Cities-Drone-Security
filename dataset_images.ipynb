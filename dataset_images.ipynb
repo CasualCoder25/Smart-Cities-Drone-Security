{
 "cells": [
  {
   "cell_type": "code",
   "execution_count": 1,
   "metadata": {},
   "outputs": [],
   "source": [
    "import numpy as np\n",
    "import pandas as pd\n",
    "import tensorflow as tf\n",
    "import matplotlib.pyplot as plt\n",
    "import os\n",
    "from sklearn.preprocessing import QuantileTransformer"
   ]
  },
  {
   "cell_type": "code",
   "execution_count": 2,
   "metadata": {},
   "outputs": [],
   "source": [
    "base_path = r\"C:\\Users\\Sagar\\Python files_Jupiter\\Git Repo Local\\Smart Cities\\Project\""
   ]
  },
  {
   "cell_type": "code",
   "execution_count": 3,
   "metadata": {},
   "outputs": [],
   "source": [
    "train=pd.read_csv(base_path + r\"\\Dataset\\Final Dataset\\Train\\train.csv\", header=None)\n",
    "test=pd.read_csv(base_path + r\"\\Dataset\\Final Dataset\\Test\\test.csv\", header=None)"
   ]
  },
  {
   "cell_type": "code",
   "execution_count": 4,
   "metadata": {},
   "outputs": [],
   "source": [
    "train.columns = [\n",
    "    \"duration\", \"protocol_type\", \"service\", \"flag\", \"src_bytes\", \"dst_bytes\",\n",
    "    \"land\", \"wrong_fragment\", \"urgent\", \"hot\", \"num_failed_logins\", \n",
    "    \"logged_in\", \"num_compromised\", \"root_shell\", \"su_attempted\", \"num_root\", \n",
    "    \"num_file_creations\", \"num_shells\", \"num_access_files\", \"num_outbound_cmds\", \n",
    "    \"is_host_login\", \"is_guest_login\", \"count\", \"srv_count\", \"serror_rate\", \n",
    "    \"srv_serror_rate\", \"rerror_rate\", \"srv_rerror_rate\", \"same_srv_rate\", \n",
    "    \"diff_srv_rate\", \"srv_diff_host_rate\", \"dst_host_count\", \"dst_host_srv_count\", \n",
    "    \"dst_host_same_srv_rate\", \"dst_host_diff_srv_rate\", \"dst_host_same_src_port_rate\", \n",
    "    \"dst_host_srv_diff_host_rate\", \"dst_host_serror_rate\", \"dst_host_srv_serror_rate\", \n",
    "    \"dst_host_rerror_rate\", \"dst_host_srv_rerror_rate\", \"attack\"\n",
    "]\n",
    "\n",
    "test.columns = [\n",
    "    \"duration\", \"protocol_type\", \"service\", \"flag\", \"src_bytes\", \"dst_bytes\",\n",
    "    \"land\", \"wrong_fragment\", \"urgent\", \"hot\", \"num_failed_logins\", \n",
    "    \"logged_in\", \"num_compromised\", \"root_shell\", \"su_attempted\", \"num_root\", \n",
    "    \"num_file_creations\", \"num_shells\", \"num_access_files\", \"num_outbound_cmds\", \n",
    "    \"is_host_login\", \"is_guest_login\", \"count\", \"srv_count\", \"serror_rate\", \n",
    "    \"srv_serror_rate\", \"rerror_rate\", \"srv_rerror_rate\", \"same_srv_rate\", \n",
    "    \"diff_srv_rate\", \"srv_diff_host_rate\", \"dst_host_count\", \"dst_host_srv_count\", \n",
    "    \"dst_host_same_srv_rate\", \"dst_host_diff_srv_rate\", \"dst_host_same_src_port_rate\", \n",
    "    \"dst_host_srv_diff_host_rate\", \"dst_host_serror_rate\", \"dst_host_srv_serror_rate\", \n",
    "    \"dst_host_rerror_rate\", \"dst_host_srv_rerror_rate\", \"attack\"\n",
    "]"
   ]
  },
  {
   "cell_type": "code",
   "execution_count": 5,
   "metadata": {},
   "outputs": [],
   "source": [
    "# List of symbolic (categorical) columns\n",
    "symbolic_columns = [\n",
    "    \"protocol_type\", \"service\", \"flag\", \"land\", \"logged_in\", \n",
    "    \"is_host_login\", \"is_guest_login\"\n",
    "]\n",
    "\n",
    "# Encode each symbolic column using map and pd.Categorical\n",
    "for col in symbolic_columns:\n",
    "    train[col] = pd.Categorical(train[col]).codes\n",
    "    test[col] = pd.Categorical(test[col]).codes\n"
   ]
  },
  {
   "cell_type": "code",
   "execution_count": 6,
   "metadata": {},
   "outputs": [],
   "source": [
    "y_values = {\n",
    "    \"normal\": 0,\n",
    "    \"neptune\": 1,\n",
    "    \"smurf\": 2,\n",
    "    \"saint\": 3,\n",
    "    \"snmpgetattack\": 4,\n",
    "    \"ipsweep\": 5,\n",
    "    \"mailbomb\": 6,\n",
    "    \"guess_passwd\": 7,\n",
    "    \"snmpguess\": 8,\n",
    "    \"warezmaster\": 9,\n",
    "    \"satan\": 10,\n",
    "    \"back\": 11,\n",
    "    \"processtable\": 12,\n",
    "    \"portsweep\": 13,\n",
    "    \"httptunnel\": 14,\n",
    "    \"mscan\": 15,\n",
    "    \"apache2\": 16,\n",
    "    \"pod\": 17,\n",
    "    \"ps\": 18,\n",
    "    \"nmap\": 19,\n",
    "    \"multihop\": 20,\n",
    "    \"xterm\": 21,\n",
    "    \"teardrop\": 22,\n",
    "    \"rootkit\": 23,\n",
    "    \"named\": 24,\n",
    "    \"ftp_write\": 25,\n",
    "    \"buffer_overflow\": 26,\n",
    "    \"sqlattack\": 27,\n",
    "    \"xsnoop\": 28,\n",
    "    \"perl\": 29,\n",
    "    \"land\": 30,\n",
    "    \"phf\": 31,\n",
    "    \"sendmail\": 32,\n",
    "    \"xlock\": 33,\n",
    "    \"udpstorm\": 34,\n",
    "    \"worm\": 35,\n",
    "    \"loadmodule\": 36\n",
    "}\n"
   ]
  },
  {
   "cell_type": "code",
   "execution_count": 7,
   "metadata": {},
   "outputs": [],
   "source": [
    "X_train=train.iloc[:,0:-1]\n",
    "Y_train=train.iloc[:,-1].map(y_values)\n",
    "X_test=test.iloc[:,0:-1]\n",
    "Y_test=test.iloc[:,-1].map(y_values)"
   ]
  },
  {
   "cell_type": "code",
   "execution_count": 8,
   "metadata": {},
   "outputs": [],
   "source": [
    "X_train.fillna(value=0,inplace=True)\n",
    "X_train.replace([np.inf],0,inplace=True)\n",
    "X_test.fillna(value=0,inplace=True)\n",
    "X_test.replace([np.inf],0,inplace=True)"
   ]
  },
  {
   "cell_type": "code",
   "execution_count": 9,
   "metadata": {},
   "outputs": [],
   "source": [
    "X_train=np.array(X_train, dtype=np.float32)\n",
    "Y_train=np.array(Y_train, dtype=np.float32)\n",
    "X_test=np.array(X_test, dtype=np.float32)\n",
    "Y_test=np.array(Y_test, dtype=np.float32)"
   ]
  },
  {
   "cell_type": "code",
   "execution_count": 10,
   "metadata": {},
   "outputs": [
    {
     "name": "stdout",
     "output_type": "stream",
     "text": [
      "(248822, 41) (248822,)\n",
      "(62206, 41) (62206,)\n"
     ]
    }
   ],
   "source": [
    "print(X_train.shape,Y_train.shape)\n",
    "print(X_test.shape,Y_test.shape)"
   ]
  },
  {
   "cell_type": "code",
   "execution_count": 11,
   "metadata": {},
   "outputs": [],
   "source": [
    "scaler=QuantileTransformer()\n",
    "scaler.fit_transform(X_train)\n",
    "X_train_scaled=scaler.transform(X_train)\n",
    "X_test_scaled=scaler.transform(X_test)"
   ]
  },
  {
   "cell_type": "code",
   "execution_count": 12,
   "metadata": {},
   "outputs": [
    {
     "data": {
      "text/plain": [
       "['C:\\\\Users\\\\Sagar\\\\Python files_Jupiter\\\\Git Repo Local\\\\Smart Cities\\\\Project/Results/Preprocessing/quantile_transformer.joblib']"
      ]
     },
     "execution_count": 12,
     "metadata": {},
     "output_type": "execute_result"
    }
   ],
   "source": [
    "import joblib\n",
    "# Save the scaler\n",
    "joblib.dump(scaler, base_path + '/Results/Preprocessing/quantile_transformer.joblib')"
   ]
  },
  {
   "cell_type": "code",
   "execution_count": 13,
   "metadata": {},
   "outputs": [
    {
     "name": "stdout",
     "output_type": "stream",
     "text": [
      "Created directory: C:\\Users\\Sagar\\Python files_Jupiter\\Git Repo Local\\Smart Cities\\Project\\Dataset\\Final Dataset\\Train\\Images\\0\n",
      "Created directory: C:\\Users\\Sagar\\Python files_Jupiter\\Git Repo Local\\Smart Cities\\Project\\Dataset\\Final Dataset\\Train\\Images\\1\n",
      "Created directory: C:\\Users\\Sagar\\Python files_Jupiter\\Git Repo Local\\Smart Cities\\Project\\Dataset\\Final Dataset\\Train\\Images\\2\n",
      "Created directory: C:\\Users\\Sagar\\Python files_Jupiter\\Git Repo Local\\Smart Cities\\Project\\Dataset\\Final Dataset\\Train\\Images\\3\n",
      "Created directory: C:\\Users\\Sagar\\Python files_Jupiter\\Git Repo Local\\Smart Cities\\Project\\Dataset\\Final Dataset\\Train\\Images\\4\n",
      "Created directory: C:\\Users\\Sagar\\Python files_Jupiter\\Git Repo Local\\Smart Cities\\Project\\Dataset\\Final Dataset\\Train\\Images\\5\n",
      "Created directory: C:\\Users\\Sagar\\Python files_Jupiter\\Git Repo Local\\Smart Cities\\Project\\Dataset\\Final Dataset\\Train\\Images\\6\n",
      "Created directory: C:\\Users\\Sagar\\Python files_Jupiter\\Git Repo Local\\Smart Cities\\Project\\Dataset\\Final Dataset\\Train\\Images\\7\n",
      "Created directory: C:\\Users\\Sagar\\Python files_Jupiter\\Git Repo Local\\Smart Cities\\Project\\Dataset\\Final Dataset\\Train\\Images\\8\n",
      "Created directory: C:\\Users\\Sagar\\Python files_Jupiter\\Git Repo Local\\Smart Cities\\Project\\Dataset\\Final Dataset\\Train\\Images\\9\n",
      "Created directory: C:\\Users\\Sagar\\Python files_Jupiter\\Git Repo Local\\Smart Cities\\Project\\Dataset\\Final Dataset\\Train\\Images\\10\n",
      "Created directory: C:\\Users\\Sagar\\Python files_Jupiter\\Git Repo Local\\Smart Cities\\Project\\Dataset\\Final Dataset\\Train\\Images\\11\n",
      "Created directory: C:\\Users\\Sagar\\Python files_Jupiter\\Git Repo Local\\Smart Cities\\Project\\Dataset\\Final Dataset\\Train\\Images\\12\n",
      "Created directory: C:\\Users\\Sagar\\Python files_Jupiter\\Git Repo Local\\Smart Cities\\Project\\Dataset\\Final Dataset\\Train\\Images\\13\n",
      "Created directory: C:\\Users\\Sagar\\Python files_Jupiter\\Git Repo Local\\Smart Cities\\Project\\Dataset\\Final Dataset\\Train\\Images\\14\n",
      "Created directory: C:\\Users\\Sagar\\Python files_Jupiter\\Git Repo Local\\Smart Cities\\Project\\Dataset\\Final Dataset\\Train\\Images\\15\n",
      "Created directory: C:\\Users\\Sagar\\Python files_Jupiter\\Git Repo Local\\Smart Cities\\Project\\Dataset\\Final Dataset\\Train\\Images\\16\n",
      "Created directory: C:\\Users\\Sagar\\Python files_Jupiter\\Git Repo Local\\Smart Cities\\Project\\Dataset\\Final Dataset\\Train\\Images\\17\n",
      "Created directory: C:\\Users\\Sagar\\Python files_Jupiter\\Git Repo Local\\Smart Cities\\Project\\Dataset\\Final Dataset\\Train\\Images\\18\n",
      "Created directory: C:\\Users\\Sagar\\Python files_Jupiter\\Git Repo Local\\Smart Cities\\Project\\Dataset\\Final Dataset\\Train\\Images\\19\n",
      "Created directory: C:\\Users\\Sagar\\Python files_Jupiter\\Git Repo Local\\Smart Cities\\Project\\Dataset\\Final Dataset\\Train\\Images\\20\n",
      "Created directory: C:\\Users\\Sagar\\Python files_Jupiter\\Git Repo Local\\Smart Cities\\Project\\Dataset\\Final Dataset\\Train\\Images\\21\n",
      "Created directory: C:\\Users\\Sagar\\Python files_Jupiter\\Git Repo Local\\Smart Cities\\Project\\Dataset\\Final Dataset\\Train\\Images\\22\n",
      "Created directory: C:\\Users\\Sagar\\Python files_Jupiter\\Git Repo Local\\Smart Cities\\Project\\Dataset\\Final Dataset\\Train\\Images\\23\n",
      "Created directory: C:\\Users\\Sagar\\Python files_Jupiter\\Git Repo Local\\Smart Cities\\Project\\Dataset\\Final Dataset\\Train\\Images\\24\n",
      "Created directory: C:\\Users\\Sagar\\Python files_Jupiter\\Git Repo Local\\Smart Cities\\Project\\Dataset\\Final Dataset\\Train\\Images\\25\n",
      "Created directory: C:\\Users\\Sagar\\Python files_Jupiter\\Git Repo Local\\Smart Cities\\Project\\Dataset\\Final Dataset\\Train\\Images\\26\n",
      "Created directory: C:\\Users\\Sagar\\Python files_Jupiter\\Git Repo Local\\Smart Cities\\Project\\Dataset\\Final Dataset\\Train\\Images\\27\n",
      "Created directory: C:\\Users\\Sagar\\Python files_Jupiter\\Git Repo Local\\Smart Cities\\Project\\Dataset\\Final Dataset\\Train\\Images\\28\n",
      "Created directory: C:\\Users\\Sagar\\Python files_Jupiter\\Git Repo Local\\Smart Cities\\Project\\Dataset\\Final Dataset\\Train\\Images\\29\n",
      "Created directory: C:\\Users\\Sagar\\Python files_Jupiter\\Git Repo Local\\Smart Cities\\Project\\Dataset\\Final Dataset\\Train\\Images\\30\n",
      "Created directory: C:\\Users\\Sagar\\Python files_Jupiter\\Git Repo Local\\Smart Cities\\Project\\Dataset\\Final Dataset\\Train\\Images\\31\n",
      "Created directory: C:\\Users\\Sagar\\Python files_Jupiter\\Git Repo Local\\Smart Cities\\Project\\Dataset\\Final Dataset\\Train\\Images\\32\n",
      "Created directory: C:\\Users\\Sagar\\Python files_Jupiter\\Git Repo Local\\Smart Cities\\Project\\Dataset\\Final Dataset\\Train\\Images\\33\n",
      "Created directory: C:\\Users\\Sagar\\Python files_Jupiter\\Git Repo Local\\Smart Cities\\Project\\Dataset\\Final Dataset\\Train\\Images\\34\n",
      "Created directory: C:\\Users\\Sagar\\Python files_Jupiter\\Git Repo Local\\Smart Cities\\Project\\Dataset\\Final Dataset\\Train\\Images\\35\n",
      "Created directory: C:\\Users\\Sagar\\Python files_Jupiter\\Git Repo Local\\Smart Cities\\Project\\Dataset\\Final Dataset\\Train\\Images\\36\n"
     ]
    }
   ],
   "source": [
    "import numpy as np\n",
    "import tensorflow as tf\n",
    "import os\n",
    "\n",
    "# Define the base path where you want to create the directories\n",
    "target_path = base_path + r\"\\Dataset\\Final Dataset\\Train\\Images\"  # Replace with your desired path\n",
    "\n",
    "# Loop through 0 to 36 and create directories if they don't exist\n",
    "for i in range(37):\n",
    "    dir_path = os.path.join(target_path, str(i))\n",
    "    \n",
    "    # Check if the directory exists, if not, create it\n",
    "    if not os.path.exists(dir_path):\n",
    "        os.makedirs(dir_path)\n",
    "        print(f\"Created directory: {dir_path}\")\n",
    "    else:\n",
    "        print(f\"Directory already exists: {dir_path}\")\n",
    "\n",
    "# Prepare variables\n",
    "image = []\n",
    "label = np.zeros(37, dtype=int)  # Assuming 9 attack types (one-hot encoding)\n",
    "index = 0\n",
    "window_size = 26  # Window size for the sliding window\n",
    "\n",
    "# Iterate over the data with a sliding window approach\n",
    "for i in range(len(X_train_scaled) - window_size + 1):\n",
    "    # Get the current window (26 records)\n",
    "    window = X_train_scaled[i:i + window_size]\n",
    "    \n",
    "    # The label is the attack type of the last record in the window\n",
    "    last_record_index = i + window_size - 1\n",
    "    label[:] = 0  # Reset the label\n",
    "    label[int(Y_train[last_record_index])] = 1  # Assign the attack type of the last record\n",
    "    \n",
    "    # Reshape the window into the image format (window_size, num_columns, 1)\n",
    "    arr = np.array(window).reshape(window_size, 41, 1)\n",
    "\n",
    "    # Save the image with the label as the folder name\n",
    "    y_val = np.argmax(label)  # Get the attack type (class index)\n",
    "    \n",
    "    # Define paths\n",
    "    img_save_path = target_path + f\"/{y_val}/img_{str(index)}_{str(y_val)}.png\"\n",
    "    label_save_path = r\".\\Dataset\\Final Dataset\\Train\\Labels\\train_img.csv\"\n",
    "    \n",
    "    # Save the image\n",
    "    tf.keras.utils.save_img(img_save_path, arr, file_format='png')\n",
    "    \n",
    "    # Append the label to the CSV file\n",
    "    with open(label_save_path, \"ab\") as file:\n",
    "        np.savetxt(file, [label], fmt='%d', delimiter=\",\")\n",
    "    \n",
    "    # Increment the index for the next image\n",
    "    index += 1"
   ]
  },
  {
   "cell_type": "code",
   "execution_count": 14,
   "metadata": {},
   "outputs": [
    {
     "name": "stdout",
     "output_type": "stream",
     "text": [
      "Created directory: C:\\Users\\Sagar\\Python files_Jupiter\\Git Repo Local\\Smart Cities\\Project\\Dataset\\Final Dataset\\Test\\Images\\0\n",
      "Created directory: C:\\Users\\Sagar\\Python files_Jupiter\\Git Repo Local\\Smart Cities\\Project\\Dataset\\Final Dataset\\Test\\Images\\1\n",
      "Created directory: C:\\Users\\Sagar\\Python files_Jupiter\\Git Repo Local\\Smart Cities\\Project\\Dataset\\Final Dataset\\Test\\Images\\2\n",
      "Created directory: C:\\Users\\Sagar\\Python files_Jupiter\\Git Repo Local\\Smart Cities\\Project\\Dataset\\Final Dataset\\Test\\Images\\3\n",
      "Created directory: C:\\Users\\Sagar\\Python files_Jupiter\\Git Repo Local\\Smart Cities\\Project\\Dataset\\Final Dataset\\Test\\Images\\4\n",
      "Created directory: C:\\Users\\Sagar\\Python files_Jupiter\\Git Repo Local\\Smart Cities\\Project\\Dataset\\Final Dataset\\Test\\Images\\5\n",
      "Created directory: C:\\Users\\Sagar\\Python files_Jupiter\\Git Repo Local\\Smart Cities\\Project\\Dataset\\Final Dataset\\Test\\Images\\6\n",
      "Created directory: C:\\Users\\Sagar\\Python files_Jupiter\\Git Repo Local\\Smart Cities\\Project\\Dataset\\Final Dataset\\Test\\Images\\7\n",
      "Created directory: C:\\Users\\Sagar\\Python files_Jupiter\\Git Repo Local\\Smart Cities\\Project\\Dataset\\Final Dataset\\Test\\Images\\8\n",
      "Created directory: C:\\Users\\Sagar\\Python files_Jupiter\\Git Repo Local\\Smart Cities\\Project\\Dataset\\Final Dataset\\Test\\Images\\9\n",
      "Created directory: C:\\Users\\Sagar\\Python files_Jupiter\\Git Repo Local\\Smart Cities\\Project\\Dataset\\Final Dataset\\Test\\Images\\10\n",
      "Created directory: C:\\Users\\Sagar\\Python files_Jupiter\\Git Repo Local\\Smart Cities\\Project\\Dataset\\Final Dataset\\Test\\Images\\11\n",
      "Created directory: C:\\Users\\Sagar\\Python files_Jupiter\\Git Repo Local\\Smart Cities\\Project\\Dataset\\Final Dataset\\Test\\Images\\12\n",
      "Created directory: C:\\Users\\Sagar\\Python files_Jupiter\\Git Repo Local\\Smart Cities\\Project\\Dataset\\Final Dataset\\Test\\Images\\13\n",
      "Created directory: C:\\Users\\Sagar\\Python files_Jupiter\\Git Repo Local\\Smart Cities\\Project\\Dataset\\Final Dataset\\Test\\Images\\14\n",
      "Created directory: C:\\Users\\Sagar\\Python files_Jupiter\\Git Repo Local\\Smart Cities\\Project\\Dataset\\Final Dataset\\Test\\Images\\15\n",
      "Created directory: C:\\Users\\Sagar\\Python files_Jupiter\\Git Repo Local\\Smart Cities\\Project\\Dataset\\Final Dataset\\Test\\Images\\16\n",
      "Created directory: C:\\Users\\Sagar\\Python files_Jupiter\\Git Repo Local\\Smart Cities\\Project\\Dataset\\Final Dataset\\Test\\Images\\17\n",
      "Created directory: C:\\Users\\Sagar\\Python files_Jupiter\\Git Repo Local\\Smart Cities\\Project\\Dataset\\Final Dataset\\Test\\Images\\18\n",
      "Created directory: C:\\Users\\Sagar\\Python files_Jupiter\\Git Repo Local\\Smart Cities\\Project\\Dataset\\Final Dataset\\Test\\Images\\19\n",
      "Created directory: C:\\Users\\Sagar\\Python files_Jupiter\\Git Repo Local\\Smart Cities\\Project\\Dataset\\Final Dataset\\Test\\Images\\20\n",
      "Created directory: C:\\Users\\Sagar\\Python files_Jupiter\\Git Repo Local\\Smart Cities\\Project\\Dataset\\Final Dataset\\Test\\Images\\21\n",
      "Created directory: C:\\Users\\Sagar\\Python files_Jupiter\\Git Repo Local\\Smart Cities\\Project\\Dataset\\Final Dataset\\Test\\Images\\22\n",
      "Created directory: C:\\Users\\Sagar\\Python files_Jupiter\\Git Repo Local\\Smart Cities\\Project\\Dataset\\Final Dataset\\Test\\Images\\23\n",
      "Created directory: C:\\Users\\Sagar\\Python files_Jupiter\\Git Repo Local\\Smart Cities\\Project\\Dataset\\Final Dataset\\Test\\Images\\24\n",
      "Created directory: C:\\Users\\Sagar\\Python files_Jupiter\\Git Repo Local\\Smart Cities\\Project\\Dataset\\Final Dataset\\Test\\Images\\25\n",
      "Created directory: C:\\Users\\Sagar\\Python files_Jupiter\\Git Repo Local\\Smart Cities\\Project\\Dataset\\Final Dataset\\Test\\Images\\26\n",
      "Created directory: C:\\Users\\Sagar\\Python files_Jupiter\\Git Repo Local\\Smart Cities\\Project\\Dataset\\Final Dataset\\Test\\Images\\27\n",
      "Created directory: C:\\Users\\Sagar\\Python files_Jupiter\\Git Repo Local\\Smart Cities\\Project\\Dataset\\Final Dataset\\Test\\Images\\28\n",
      "Created directory: C:\\Users\\Sagar\\Python files_Jupiter\\Git Repo Local\\Smart Cities\\Project\\Dataset\\Final Dataset\\Test\\Images\\29\n",
      "Created directory: C:\\Users\\Sagar\\Python files_Jupiter\\Git Repo Local\\Smart Cities\\Project\\Dataset\\Final Dataset\\Test\\Images\\30\n",
      "Created directory: C:\\Users\\Sagar\\Python files_Jupiter\\Git Repo Local\\Smart Cities\\Project\\Dataset\\Final Dataset\\Test\\Images\\31\n",
      "Created directory: C:\\Users\\Sagar\\Python files_Jupiter\\Git Repo Local\\Smart Cities\\Project\\Dataset\\Final Dataset\\Test\\Images\\32\n",
      "Created directory: C:\\Users\\Sagar\\Python files_Jupiter\\Git Repo Local\\Smart Cities\\Project\\Dataset\\Final Dataset\\Test\\Images\\33\n",
      "Created directory: C:\\Users\\Sagar\\Python files_Jupiter\\Git Repo Local\\Smart Cities\\Project\\Dataset\\Final Dataset\\Test\\Images\\34\n",
      "Created directory: C:\\Users\\Sagar\\Python files_Jupiter\\Git Repo Local\\Smart Cities\\Project\\Dataset\\Final Dataset\\Test\\Images\\35\n",
      "Created directory: C:\\Users\\Sagar\\Python files_Jupiter\\Git Repo Local\\Smart Cities\\Project\\Dataset\\Final Dataset\\Test\\Images\\36\n"
     ]
    }
   ],
   "source": [
    "import numpy as np\n",
    "import tensorflow as tf\n",
    "import os\n",
    "\n",
    "# Define the base path for test images\n",
    "test_target_path = base_path + r\"\\Dataset\\Final Dataset\\Test\\Images\"\n",
    "\n",
    "# Loop through 0 to 36 and create directories if they don't exist for test\n",
    "for i in range(37):\n",
    "    dir_path = os.path.join(test_target_path, str(i))\n",
    "    \n",
    "    # Check if the directory exists, if not, create it\n",
    "    if not os.path.exists(dir_path):\n",
    "        os.makedirs(dir_path)\n",
    "        print(f\"Created directory: {dir_path}\")\n",
    "    else:\n",
    "        print(f\"Directory already exists: {dir_path}\")\n",
    "\n",
    "# Prepare variables\n",
    "window_size = 26  # Window size for the sliding window\n",
    "index = 0\n",
    "\n",
    "# Iterate over the test dataset with a sliding window approach\n",
    "for i in range(len(X_test_scaled) - window_size + 1):\n",
    "    # Get the current window (26 records)\n",
    "    window = X_test_scaled[i:i + window_size]\n",
    "    \n",
    "    # The label is the attack type of the last record in the window\n",
    "    last_record_index = i + window_size - 1\n",
    "    label = np.zeros(37, dtype=int)  # Reset the label (one-hot encoding)\n",
    "    label[int(Y_test[last_record_index])] = 1  # Assign the attack type of the last record\n",
    "    \n",
    "    # Reshape the window into the image format (window_size, num_columns, 1)\n",
    "    arr = np.array(window).reshape(window_size, 41, 1)\n",
    "    \n",
    "    # Get the attack type (class index)\n",
    "    y_val = np.argmax(label)\n",
    "    \n",
    "    # Define paths\n",
    "    img_save_path = os.path.join(test_target_path, f\"{y_val}\", f\"img_{index}_{y_val}.png\")\n",
    "    label_save_path = r\".\\Dataset\\Final Dataset\\Test\\Labels\\test_img.csv\"\n",
    "    \n",
    "    # Save the image\n",
    "    tf.keras.utils.save_img(img_save_path, arr, file_format='png')\n",
    "    \n",
    "    # Append the label to the CSV file\n",
    "    with open(label_save_path, \"ab\") as file:\n",
    "        np.savetxt(file, [label], fmt='%d', delimiter=\",\")\n",
    "    \n",
    "    # Increment the index for the next image\n",
    "    index += 1\n"
   ]
  },
  {
   "cell_type": "code",
   "execution_count": null,
   "metadata": {},
   "outputs": [],
   "source": []
  }
 ],
 "metadata": {
  "kernelspec": {
   "display_name": "py39",
   "language": "python",
   "name": "python3"
  },
  "language_info": {
   "codemirror_mode": {
    "name": "ipython",
    "version": 3
   },
   "file_extension": ".py",
   "mimetype": "text/x-python",
   "name": "python",
   "nbconvert_exporter": "python",
   "pygments_lexer": "ipython3",
   "version": "3.9.17"
  }
 },
 "nbformat": 4,
 "nbformat_minor": 2
}
